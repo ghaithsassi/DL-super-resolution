{
  "nbformat": 4,
  "nbformat_minor": 0,
  "metadata": {
    "accelerator": "GPU",
    "colab": {
      "name": "Copy of tp_deep_learning_cnn_part_3_for_students.ipynb",
      "provenance": [],
      "collapsed_sections": []
    },
    "kernelspec": {
      "display_name": "Python 3",
      "name": "python3"
    },
    "language_info": {
      "name": "python"
    }
  },
  "cells": [
    {
      "cell_type": "markdown",
      "metadata": {
        "id": "mPf2yufekv0f"
      },
      "source": [
        "\n",
        "# TP CNN, part 3 : super-resolution\n",
        "\n",
        "Author : Alasdair Newson\n",
        "alasdair.newson@telecom-paris.fr\n",
        " \n",
        "## Objective:\n",
        "\n",
        "We want to implement a Convolutional Neural Network (CNN) to do image super-resolution.\n",
        "\n",
        "## Image super-resolution:\n",
        "\n",
        "The super-resolution problem can be summarised as follows. We have an image as an input, which is defined over a grid $\\{0,1,\\dots, m-1\\} \\times \\{0,1,\\dots, n-1\\}$. We define a factor $\\delta$, by which we upsample the image. The output of the super-resolution is an image defined on the grid $\\{0,\\frac{1}{\\delta},\\dots, m-1\\} \\times \\{0,\\frac{1}{\\delta},\\dots, n-1\\}$.\n",
        "\n",
        "## Model\n",
        "\n",
        "In this part of the TP, you have complete freedom to create any model you want, as long as the input is an image, and the output is also an image of size $\\delta m \\times \\delta n$. You will have to choose the architecture and loss which seems reasonable to you.\n",
        "\n",
        "To help you, here is a function to upsample images in neural networks :\n",
        "\n",
        "- ```from tensorflow.keras.layers import UpSampling2D```\n",
        "\n",
        "Of course, you can use any upsampling layer you wish. \n",
        "\n",
        "## Dataset\n",
        "\n",
        "We will be using the mnist dataset for this part. This is to ensure that you can obtain good results. The input data should be the subsampled version of the mnist images, subsampled by taking one out of every $\\delta$ pixels. The output data should be the normal-resolution mnist images.\n",
        "\n",
        "__IMPORTANT NOTES:__\n",
        "- Think carefully about what the training data and labels are in this case, and create them accordingly\n",
        "- We will use ```n_max=5000``` to limit the number of datapoints (as in part 1) to go faster\n",
        "- We set $\\delta$ to 2 in this TP, because it is not too difficult to create a network that works with this factor. If you change it, it might be more difficult to create a satisfactory network.\n",
        "\n",
        "# Your task:\n",
        "You have to load the mnist data (see the first part of the TP), create the model, train it, and evaluate and display the results.\n",
        "\n",
        "We have created a function ```super_res_interpolate```, which carries out super-resolution using basic interpolation (bilinear or bicubic), with which you can compare your results visually and numerically.\n",
        "\n"
      ]
    },
    {
      "cell_type": "code",
      "metadata": {
        "colab": {
          "base_uri": "https://localhost:8080/"
        },
        "id": "5utO2_UDyKs3",
        "outputId": "588bf07c-db5e-49c8-9568-0672691e2803"
      },
      "source": [
        "# # Load packages\n",
        "%matplotlib inline\n",
        "import matplotlib.pyplot as plt\n",
        "import numpy as np\n",
        "\n",
        "import tensorflow as tf\n",
        "import tensorflow_datasets as tfds\n",
        "from tensorflow.keras.utils import to_categorical\n",
        "\n",
        "from tensorflow.keras.models import Sequential, Model\n",
        "from tensorflow.keras.layers import Dense, Dropout, Activation, Flatten, Input , Add\n",
        "from tensorflow.keras.layers import Conv2D, MaxPooling2D, UpSampling2D,Conv1D,MaxPool2D\n",
        "from tensorflow.keras.layers import LeakyReLU,BatchNormalization\n",
        "from tensorflow.keras import optimizers,regularizers\n",
        "from scipy import interpolate\n",
        "print(tf.keras.__version__)"
      ],
      "execution_count": null,
      "outputs": [
        {
          "output_type": "stream",
          "name": "stdout",
          "text": [
            "2.6.0\n"
          ]
        }
      ]
    },
    {
      "cell_type": "markdown",
      "metadata": {
        "id": "mcXyExW4vgmk"
      },
      "source": [
        "This next cell is the only code you are given to carry out the TP. This function carries out a bilinear upsampling, with which you can compare your super-resolution. This function is __not__ supposed to be used by you in your network."
      ]
    },
    {
      "cell_type": "code",
      "metadata": {
        "id": "np3Dj3tuqEqn"
      },
      "source": [
        "# choice of the interpolation method\n",
        "interp_method = 'linear'\n",
        "# upsampling factor\n",
        "delta = 2\n",
        "# the maximum number of data to take from mnist (to go a bit faster)\n",
        "n_max = 5000\n",
        "\n",
        "# upsample by a factor of delta\n",
        "# by definition, the new grid has a step size of 1/delta\n",
        "def super_res_interpolate(imgs_in,delta,interp_method = 'linear'):\n",
        "\timgs_out = tf.image.resize( tf.constant(imgs_in),\\\n",
        "\t\t[delta*imgs_in.shape[1],delta*imgs_in.shape[2]], method='bilinear').numpy()\n",
        "\n",
        "\treturn(imgs_out)\n"
      ],
      "execution_count": null,
      "outputs": []
    },
    {
      "cell_type": "markdown",
      "metadata": {
        "id": "vLGjn0zP5h0V"
      },
      "source": [
        "## Create your super-resolution network\n",
        "\n",
        "The rest is up to you ! Import the data, format it (you can use the first part of the TP as help), create your network, train it, and compare the results with ```super_res_interpolate```.\n",
        "\n",
        "Your network should be able to achieve about $80\\%$ accuracy.\n",
        "\n",
        "__Note__ you can obviously create as many cells as you like in your work."
      ]
    },
    {
      "cell_type": "markdown",
      "metadata": {
        "id": "ZjN8UT59k07b"
      },
      "source": [
        "## Loading data"
      ]
    },
    {
      "cell_type": "code",
      "metadata": {
        "colab": {
          "base_uri": "https://localhost:8080/"
        },
        "id": "Hfx5BxeUqKf-",
        "outputId": "2354a983-02b1-4c0d-b629-43a249faef7c"
      },
      "source": [
        "(ds_train, ds_test), ds_info = tfds.load(\n",
        "    \"mnist\",\n",
        "    split=[\"train\", \"test\"],\n",
        "    shuffle_files=True,\n",
        "    as_supervised=True,\n",
        "    with_info=True,\n",
        ")\n",
        "\n",
        "ds_train = ds_train.shuffle(ds_info.splits['train'].num_examples)\n",
        "ds_train = ds_train.take(n_max)\n",
        "\n",
        "ds_test = ds_test.take( int(n_max*2/8) ) # 80-20 test\n",
        "\n",
        "print('There are {} train data'.format(len(ds_train)))\n",
        "print('There are {} test data'.format(len(ds_test)))"
      ],
      "execution_count": null,
      "outputs": [
        {
          "output_type": "stream",
          "name": "stdout",
          "text": [
            "There are 5000 train data\n",
            "There are 1250 test data\n"
          ]
        }
      ]
    },
    {
      "cell_type": "markdown",
      "metadata": {
        "id": "fqGnP8x0hsTl"
      },
      "source": [
        "## Data preprocessing\n"
      ]
    },
    {
      "cell_type": "markdown",
      "metadata": {
        "id": "RVuI5qptSSDC"
      },
      "source": [
        "Here we define two functions: \n",
        "- A function for normalization: Normalize the data\n",
        "- A function for downsampling: generate a low resolution image from one that has a high resolution"
      ]
    },
    {
      "cell_type": "code",
      "metadata": {
        "id": "OxfxqprrbBHJ"
      },
      "source": [
        "def normalize_img(image, label):\n",
        "    \"\"\"Normalizes images: `uint8` -> `float32`.\"\"\"\n",
        "    return tf.cast(image, tf.float32) / 255.0\n",
        "\n",
        "\n",
        "def downsampling(high_res, delta=2):\n",
        "    low_res = high_res[::delta, ::delta, :]\n",
        "    return low_res, high_res"
      ],
      "execution_count": null,
      "outputs": []
    },
    {
      "cell_type": "markdown",
      "metadata": {
        "id": "XDq4Zv1mpnaG"
      },
      "source": [
        "Let's apply the function downsampling on our data set"
      ]
    },
    {
      "cell_type": "code",
      "metadata": {
        "id": "cjRjSmknhyKm"
      },
      "source": [
        "ds_train = ds_train.map(normalize_img, num_parallel_calls=tf.data.AUTOTUNE)\n",
        "ds_train = ds_train.map(downsampling, num_parallel_calls=tf.data.AUTOTUNE)\n",
        "\n",
        "ds_test = ds_test.map(normalize_img, num_parallel_calls=tf.data.AUTOTUNE)\n",
        "ds_test = ds_test.map(downsampling, num_parallel_calls=tf.data.AUTOTUNE)"
      ],
      "execution_count": null,
      "outputs": []
    },
    {
      "cell_type": "markdown",
      "metadata": {
        "id": "i7oOTXdVl4Wn"
      },
      "source": [
        "Now, let's look at some of the data befor and after downsampling:"
      ]
    },
    {
      "cell_type": "code",
      "metadata": {
        "colab": {
          "base_uri": "https://localhost:8080/",
          "height": 361
        },
        "id": "rTaI1s-giLQX",
        "outputId": "9e5be9cd-eb4a-491f-de8e-d60dd736e9fe"
      },
      "source": [
        "n = 8\n",
        "plt.figure(figsize= (20,10))\n",
        "for i, (low_res,high_res) in enumerate(ds_test.take(n)):\n",
        "  ax = plt.subplot(3, n, i+1)\n",
        "  plt.imshow(high_res[:,:,0],cmap='gray')\n",
        "  plt.title(\"before downsampling\")\n",
        "  ax.get_xaxis().set_visible(False)\n",
        "  ax.get_yaxis().set_visible(False)\n",
        "  ax = plt.subplot(3, n, i+1+n)\n",
        "  plt.imshow(low_res[:,:,0],cmap='gray')\n",
        "  plt.title(\"after downsampling\")\n",
        "  ax.get_xaxis().set_visible(False)\n",
        "  ax.get_yaxis().set_visible(False)\n",
        "plt.show()"
      ],
      "execution_count": null,
      "outputs": [
        {
          "output_type": "display_data",
          "data": {
            "image/png": "[encoded data removed]",
            "text/plain": [
              "<Figure size 1440x720 with 16 Axes>"
            ]
          },
          "metadata": {
            "needs_background": "light"
          }
        }
      ]
    },
    {
      "cell_type": "markdown",
      "metadata": {
        "id": "ZSnYIb2_lSLx"
      },
      "source": [
        "## Model Definition"
      ]
    },
    {
      "cell_type": "markdown",
      "metadata": {
        "id": "leLDi_3mTIu7"
      },
      "source": [
        "This is the architecture of our model:"
      ]
    },
    {
      "cell_type": "code",
      "metadata": {
        "colab": {
          "base_uri": "https://localhost:8080/"
        },
        "id": "0vAVCdXTBVd_",
        "outputId": "252ab557-8173-4639-c9d5-d107a9c6efc5"
      },
      "source": [
        "Input_img = Input(shape=(14, 14, 1))  \n",
        "    \n",
        "#encoding architecture\n",
        "x1 = Conv2D(64, (3, 3), activation='relu', padding='same', kernel_regularizer=regularizers.l1(10e-10))(Input_img)\n",
        "x2 = Conv2D(64, (3, 3), activation='relu', padding='same', kernel_regularizer=regularizers.l1(10e-10))(x1)\n",
        "x3 = MaxPool2D(padding='same')(x2)\n",
        "x4 = Conv2D(128, (3, 3), activation='relu', padding='same', kernel_regularizer=regularizers.l1(10e-10))(x3)\n",
        "x5 = Conv2D(128, (3, 3), activation='relu', padding='same', kernel_regularizer=regularizers.l1(10e-10))(x4)\n",
        "x_6_1 = Conv1D(128,1,1,padding='same')(x3)\n",
        "x_6_2 = Add()([x_6_1, x5])\n",
        "x6 = MaxPool2D(padding='same')(x_6_2)\n",
        "encoded = Conv2D(256, (3, 3), activation='relu', padding='same', kernel_regularizer=regularizers.l1(10e-10))(x6)\n",
        "# decoding architecture\n",
        "x7 = UpSampling2D()(encoded)\n",
        "x8 = Conv2D(128, (3, 3), activation='relu', padding='same', kernel_regularizer=regularizers.l1(10e-10))(x7)\n",
        "x9 = Conv2D(128, (3, 3), activation='relu', padding='same', kernel_regularizer=regularizers.l1(10e-10))(x8)\n",
        "x10 = x9 \n",
        "x11 = UpSampling2D()(x10)\n",
        "x12 = Conv2D(64, (3, 3), activation='relu', padding='same', kernel_regularizer=regularizers.l1(10e-10))(x11)\n",
        "x13 = Conv2D(64, (3, 3), activation='relu', padding='same', kernel_regularizer=regularizers.l1(10e-10))(x12)\n",
        "x14 = x13 \n",
        "x15 = Conv2D(32, (3, 3), padding='same',activation='relu', kernel_regularizer=regularizers.l1(10e-10))(x14)\n",
        "x16 = UpSampling2D()(x15)\n",
        "x17 = Conv2D(16, (3, 3), padding='valid',activation='relu', kernel_regularizer=regularizers.l1(10e-10))(x16)\n",
        "x18 = Conv2D(1, (3, 3), padding='valid',activation='relu', kernel_regularizer=regularizers.l1(10e-10))(x17)\n",
        "model = Model(Input_img, x18)\n",
        "model.compile(optimizer='adam', loss='mse', metrics=['accuracy'])\n",
        "model.summary()"
      ],
      "execution_count": null,
      "outputs": [
        {
          "output_type": "stream",
          "name": "stdout",
          "text": [
            "Model: \"model_1\"\n",
            "__________________________________________________________________________________________________\n",
            "Layer (type)                    Output Shape         Param #     Connected to                     \n",
            "==================================================================================================\n",
            "input_2 (InputLayer)            [(None, 14, 14, 1)]  0                                            \n",
            "__________________________________________________________________________________________________\n",
            "conv2d_12 (Conv2D)              (None, 14, 14, 64)   640         input_2[0][0]                    \n",
            "__________________________________________________________________________________________________\n",
            "conv2d_13 (Conv2D)              (None, 14, 14, 64)   36928       conv2d_12[0][0]                  \n",
            "__________________________________________________________________________________________________\n",
            "max_pooling2d_2 (MaxPooling2D)  (None, 7, 7, 64)     0           conv2d_13[0][0]                  \n",
            "__________________________________________________________________________________________________\n",
            "conv2d_14 (Conv2D)              (None, 7, 7, 128)    73856       max_pooling2d_2[0][0]            \n",
            "__________________________________________________________________________________________________\n",
            "conv1d_1 (Conv1D)               (None, 7, 7, 128)    8320        max_pooling2d_2[0][0]            \n",
            "__________________________________________________________________________________________________\n",
            "conv2d_15 (Conv2D)              (None, 7, 7, 128)    147584      conv2d_14[0][0]                  \n",
            "__________________________________________________________________________________________________\n",
            "add_1 (Add)                     (None, 7, 7, 128)    0           conv1d_1[0][0]                   \n",
            "                                                                 conv2d_15[0][0]                  \n",
            "__________________________________________________________________________________________________\n",
            "max_pooling2d_3 (MaxPooling2D)  (None, 4, 4, 128)    0           add_1[0][0]                      \n",
            "__________________________________________________________________________________________________\n",
            "conv2d_16 (Conv2D)              (None, 4, 4, 256)    295168      max_pooling2d_3[0][0]            \n",
            "__________________________________________________________________________________________________\n",
            "up_sampling2d_3 (UpSampling2D)  (None, 8, 8, 256)    0           conv2d_16[0][0]                  \n",
            "__________________________________________________________________________________________________\n",
            "conv2d_17 (Conv2D)              (None, 8, 8, 128)    295040      up_sampling2d_3[0][0]            \n",
            "__________________________________________________________________________________________________\n",
            "conv2d_18 (Conv2D)              (None, 8, 8, 128)    147584      conv2d_17[0][0]                  \n",
            "__________________________________________________________________________________________________\n",
            "up_sampling2d_4 (UpSampling2D)  (None, 16, 16, 128)  0           conv2d_18[0][0]                  \n",
            "__________________________________________________________________________________________________\n",
            "conv2d_19 (Conv2D)              (None, 16, 16, 64)   73792       up_sampling2d_4[0][0]            \n",
            "__________________________________________________________________________________________________\n",
            "conv2d_20 (Conv2D)              (None, 16, 16, 64)   36928       conv2d_19[0][0]                  \n",
            "__________________________________________________________________________________________________\n",
            "conv2d_21 (Conv2D)              (None, 16, 16, 32)   18464       conv2d_20[0][0]                  \n",
            "__________________________________________________________________________________________________\n",
            "up_sampling2d_5 (UpSampling2D)  (None, 32, 32, 32)   0           conv2d_21[0][0]                  \n",
            "__________________________________________________________________________________________________\n",
            "conv2d_22 (Conv2D)              (None, 30, 30, 16)   4624        up_sampling2d_5[0][0]            \n",
            "__________________________________________________________________________________________________\n",
            "conv2d_23 (Conv2D)              (None, 28, 28, 1)    145         conv2d_22[0][0]                  \n",
            "==================================================================================================\n",
            "Total params: 1,139,073\n",
            "Trainable params: 1,139,073\n",
            "Non-trainable params: 0\n",
            "__________________________________________________________________________________________________\n"
          ]
        }
      ]
    },
    {
      "cell_type": "markdown",
      "metadata": {
        "id": "UKBu_wd9n1nQ"
      },
      "source": [
        "# Training"
      ]
    },
    {
      "cell_type": "markdown",
      "metadata": {
        "id": "WmFMJ8LKTZq6"
      },
      "source": [
        "We will first define some callbacks so that it would be easy for model visualization and evaluation in future."
      ]
    },
    {
      "cell_type": "code",
      "metadata": {
        "id": "zIZ19Jq3s7Ei"
      },
      "source": [
        "from tensorflow.keras.callbacks import EarlyStopping, ModelCheckpoint"
      ],
      "execution_count": null,
      "outputs": []
    },
    {
      "cell_type": "code",
      "metadata": {
        "id": "7J_Xvu-KnZhn"
      },
      "source": [
        "early_stopper = EarlyStopping(monitor='val_loss', min_delta=0.01, patience=20, verbose=1, mode='min')\n",
        "model_checkpoint =  ModelCheckpoint('superResolution_checkpoint1.h5', save_best_only = True)"
      ],
      "execution_count": null,
      "outputs": []
    },
    {
      "cell_type": "code",
      "metadata": {
        "id": "Kcrd1fYGqOCj"
      },
      "source": [
        "BATCH_SIZE = 16\n",
        "train_dataset_batched = ds_train.batch(BATCH_SIZE)\n",
        "test_dataset_batched = ds_test.batch(BATCH_SIZE)"
      ],
      "execution_count": null,
      "outputs": []
    },
    {
      "cell_type": "markdown",
      "metadata": {
        "id": "0sCvWwdfxCm1"
      },
      "source": [
        "Let's train our model"
      ]
    },
    {
      "cell_type": "code",
      "metadata": {
        "colab": {
          "base_uri": "https://localhost:8080/"
        },
        "id": "qRKWB8tzoZ37",
        "outputId": "6652eec0-0e57-466b-8ec3-d282e31d810a"
      },
      "source": [
        "history = model.fit(train_dataset_batched,\n",
        "            epochs=100,\n",
        "            validation_data=test_dataset_batched,\n",
        "            callbacks=[early_stopper, model_checkpoint],\n",
        "            )"
      ],
      "execution_count": null,
      "outputs": [
        {
          "output_type": "stream",
          "name": "stdout",
          "text": [
            "Epoch 1/100\n",
            "313/313 [==============================] - 18s 28ms/step - loss: 0.0267 - accuracy: 0.8054 - val_loss: 0.0135 - val_accuracy: 0.8083\n",
            "Epoch 2/100\n"
          ]
        },
        {
          "output_type": "stream",
          "name": "stderr",
          "text": [
            "/usr/local/lib/python3.7/dist-packages/keras/utils/generic_utils.py:497: CustomMaskWarning: Custom mask layers require a config and must override get_config. When loading, the custom mask layer must be passed to the custom_objects argument.\n",
            "  category=CustomMaskWarning)\n"
          ]
        },
        {
          "output_type": "stream",
          "name": "stdout",
          "text": [
            "313/313 [==============================] - 8s 25ms/step - loss: 0.0120 - accuracy: 0.8133 - val_loss: 0.0099 - val_accuracy: 0.8101\n",
            "Epoch 3/100\n",
            "313/313 [==============================] - 9s 27ms/step - loss: 0.0100 - accuracy: 0.8129 - val_loss: 0.0091 - val_accuracy: 0.8101\n",
            "Epoch 4/100\n",
            "313/313 [==============================] - 8s 25ms/step - loss: 0.0090 - accuracy: 0.8123 - val_loss: 0.0081 - val_accuracy: 0.8104\n",
            "Epoch 5/100\n",
            "313/313 [==============================] - 8s 25ms/step - loss: 0.0082 - accuracy: 0.8136 - val_loss: 0.0077 - val_accuracy: 0.8106\n",
            "Epoch 6/100\n",
            "313/313 [==============================] - 8s 24ms/step - loss: 0.0077 - accuracy: 0.8145 - val_loss: 0.0069 - val_accuracy: 0.8107\n",
            "Epoch 7/100\n",
            "313/313 [==============================] - 8s 25ms/step - loss: 0.0073 - accuracy: 0.8144 - val_loss: 0.0071 - val_accuracy: 0.8107\n",
            "Epoch 8/100\n",
            "313/313 [==============================] - 9s 27ms/step - loss: 0.0070 - accuracy: 0.8145 - val_loss: 0.0073 - val_accuracy: 0.8105\n",
            "Epoch 9/100\n",
            "313/313 [==============================] - 8s 25ms/step - loss: 0.0070 - accuracy: 0.8131 - val_loss: 0.0066 - val_accuracy: 0.8106\n",
            "Epoch 10/100\n",
            "313/313 [==============================] - 8s 25ms/step - loss: 0.0066 - accuracy: 0.8144 - val_loss: 0.0091 - val_accuracy: 0.8096\n",
            "Epoch 11/100\n",
            "313/313 [==============================] - 8s 25ms/step - loss: 0.0066 - accuracy: 0.8131 - val_loss: 0.0067 - val_accuracy: 0.8108\n",
            "Epoch 12/100\n",
            "313/313 [==============================] - 8s 25ms/step - loss: 0.0064 - accuracy: 0.8146 - val_loss: 0.0060 - val_accuracy: 0.8108\n",
            "Epoch 13/100\n",
            "313/313 [==============================] - 8s 26ms/step - loss: 0.0063 - accuracy: 0.8125 - val_loss: 0.0060 - val_accuracy: 0.8108\n",
            "Epoch 14/100\n",
            "313/313 [==============================] - 8s 25ms/step - loss: 0.0063 - accuracy: 0.8134 - val_loss: 0.0060 - val_accuracy: 0.8107\n",
            "Epoch 15/100\n",
            "313/313 [==============================] - 8s 25ms/step - loss: 0.0061 - accuracy: 0.8138 - val_loss: 0.0060 - val_accuracy: 0.8109\n",
            "Epoch 16/100\n",
            "313/313 [==============================] - 8s 25ms/step - loss: 0.0061 - accuracy: 0.8142 - val_loss: 0.0066 - val_accuracy: 0.8104\n",
            "Epoch 17/100\n",
            "313/313 [==============================] - 8s 24ms/step - loss: 0.0060 - accuracy: 0.8146 - val_loss: 0.0059 - val_accuracy: 0.8107\n",
            "Epoch 18/100\n",
            "313/313 [==============================] - 8s 26ms/step - loss: 0.0059 - accuracy: 0.8153 - val_loss: 0.0065 - val_accuracy: 0.8105\n",
            "Epoch 19/100\n",
            "313/313 [==============================] - 8s 26ms/step - loss: 0.0059 - accuracy: 0.8150 - val_loss: 0.0057 - val_accuracy: 0.8108\n",
            "Epoch 20/100\n",
            "313/313 [==============================] - 9s 27ms/step - loss: 0.0058 - accuracy: 0.8144 - val_loss: 0.0058 - val_accuracy: 0.8107\n",
            "Epoch 21/100\n",
            "313/313 [==============================] - 8s 25ms/step - loss: 0.0058 - accuracy: 0.8147 - val_loss: 0.0062 - val_accuracy: 0.8106\n",
            "Epoch 00021: early stopping\n"
          ]
        }
      ]
    },
    {
      "cell_type": "markdown",
      "metadata": {
        "id": "NbFnCzr5w92M"
      },
      "source": [
        "## test"
      ]
    },
    {
      "cell_type": "markdown",
      "metadata": {
        "id": "Xy20FBy0TuN1"
      },
      "source": [
        "Now, let's evaluate our model (Super resolution neural network) on our test dataset:"
      ]
    },
    {
      "cell_type": "code",
      "metadata": {
        "colab": {
          "base_uri": "https://localhost:8080/"
        },
        "id": "61XmSiBFw9YO",
        "outputId": "ee722ae4-629b-46cc-f9bc-58f7d4e27e7a"
      },
      "source": [
        "results = model.evaluate(test_dataset_batched)\n",
        "print('Accuracy', results[1])"
      ],
      "execution_count": null,
      "outputs": [
        {
          "output_type": "stream",
          "name": "stdout",
          "text": [
            "79/79 [==============================] - 1s 12ms/step - loss: 0.0062 - accuracy: 0.8106\n",
            "Accuracy 0.8106438517570496\n"
          ]
        }
      ]
    },
    {
      "cell_type": "markdown",
      "metadata": {
        "id": "rUmA1_Hn92ns"
      },
      "source": [
        "Then, let's evaluate the defined model (the bilinear interpolation) method on our test dataset:"
      ]
    },
    {
      "cell_type": "code",
      "metadata": {
        "colab": {
          "base_uri": "https://localhost:8080/"
        },
        "id": "EopatXHd0Eok",
        "outputId": "2dbfd655-eb15-41f9-bef3-6383a6cc9c02"
      },
      "source": [
        "acc = tf.keras.metrics.Accuracy()\n",
        "low_resolution_images = tf.stack([low_res for low_res,high_res in ds_test])\n",
        "high_resolution_images = tf.stack([high_res for low_res,high_res in ds_test])\n",
        "\n",
        "bilinear_resoltion_images = super_res_interpolate(low_resolution_images,delta=2)\n",
        "\n",
        "acc.update_state(bilinear_resoltion_images,high_resolution_images)\n",
        "\n",
        "print('Accuracy', acc.result().numpy())"
      ],
      "execution_count": null,
      "outputs": [
        {
          "output_type": "stream",
          "name": "stdout",
          "text": [
            "Accuracy 0.67912346\n"
          ]
        }
      ]
    },
    {
      "cell_type": "markdown",
      "metadata": {
        "id": "U9DE3f5XUaio"
      },
      "source": [
        "As a result, we obtain as accuracy: \n",
        "- 67% for the bilinear interpolation\n",
        "- 81% for the super resolution neural network (the model that we have defined)\n",
        "So we notice that the learning increases and reaches around  81% "
      ]
    },
    {
      "cell_type": "markdown",
      "metadata": {
        "id": "Anlb2U9JVSfK"
      },
      "source": [
        "Now, let's visualize the difference between the two methods: "
      ]
    },
    {
      "cell_type": "code",
      "metadata": {
        "colab": {
          "base_uri": "https://localhost:8080/"
        },
        "id": "jZMvzG0czLIA",
        "outputId": "149e0ff7-21f7-4729-b76c-0d82d91330a3"
      },
      "source": [
        "test_dataset_batched = ds_test.batch(1)\n",
        "n = 6\n",
        "plt.figure(figsize= (20,10))\n",
        "for i, (low_res,high_res) in enumerate(ds_test.take(n)):\n",
        "  super_res = model.predict(tf.expand_dims(low_res,axis=0))[0]\n",
        "  bilinear_res = super_res_interpolate(tf.expand_dims(low_res,axis=0),delta=2)[0]\n",
        "\n",
        "#The input of low resolution images\n",
        "  ax = plt.subplot(4, n, i+1)\n",
        "  plt.imshow(low_res[:,:,0],cmap='gray')\n",
        "  plt.title(\"Low resolution\")\n",
        "  ax.get_xaxis().set_visible(False)\n",
        "  ax.get_yaxis().set_visible(False)\n",
        "#The result of our trained model (Super_resolution_network)\n",
        "  ax = plt.subplot(4, n, i+1+n)\n",
        "  plt.imshow(super_res[:,:,0],cmap='gray')\n",
        "  plt.title(\"Super resolution\")\n",
        "  ax.get_xaxis().set_visible(False)\n",
        "  ax.get_yaxis().set_visible(False)\n",
        "\n",
        "#The result of the Bilinear interpolation (super_res_interpolate)\n",
        "  ax = plt.subplot(4, n, i+1+2*n)\n",
        "  plt.imshow(bilinear_res[:,:,0],cmap='gray')\n",
        "  plt.title(\"Bilinear interpolation\")\n",
        "  ax.get_xaxis().set_visible(False)\n",
        "  ax.get_yaxis().set_visible(False)\n",
        "#The real images\n",
        "  ax = plt.subplot(4, n, i+1+3*n)\n",
        "  plt.imshow(high_res[:,:,0],cmap='gray')\n",
        "  plt.title(\"Real resolution\")\n",
        "  ax.get_xaxis().set_visible(False)\n",
        "  ax.get_yaxis().set_visible(False)\n",
        "\n",
        "plt.show()"
      ],
      "execution_count": null,
      "outputs": [
        {
          "output_type": "display_data",
          "data": {
            "image/png": "[encoded data removed]",
            "text/plain": [
              "<Figure size 1440x720 with 24 Axes>"
            ]
          },
          "metadata": {
            "needs_background": "light"
          }
        }
      ]
    },
    {
      "cell_type": "markdown",
      "metadata": {
        "id": "nssRP8NRAQtA"
      },
      "source": [
        "# Evaluation\n",
        "\n",
        "To evaluate the work, you should rate the code for \n",
        "- 1) Importing MNIST correctly (correctly formatting the data) : 1 point\n",
        "- 2) Creating a model which makes sense (correct input/output sizes) : 1 point\n",
        "- 3) Training and achieving good results  : 2 points. 1 point if the learning increases but does not reach around $80\\%$, 2 points if the learning reaches around $80\\%$\n",
        "- 4) Display a visual comparison of your network with ```super_res_interpolate``` for several examples\n",
        "\n",
        "Total over 5 points.\n"
      ]
    }
  ]
}